{
 "cells": [
  {
   "cell_type": "code",
   "execution_count": 151,
   "metadata": {},
   "outputs": [],
   "source": [
    "from gomoku import Gomoku"
   ]
  },
  {
   "cell_type": "code",
   "execution_count": 152,
   "metadata": {},
   "outputs": [
    {
     "name": "stdout",
     "output_type": "stream",
     "text": [
      "Winner: 1\n",
      ". . . . . . . . . . . . . . .\n",
      ". . . . . . . . . . . . . . .\n",
      ". . . . . . . . . . . . . . .\n",
      ". . . . . . . . . . . . . . .\n",
      ". . . . . . . . . . . . . . .\n",
      ". . . . . . . . . . . . . . .\n",
      ". . . . . . . . . . . . . . .\n",
      ". . . . . . . X O . . . . . .\n",
      ". . . . . . . X O . . . . . .\n",
      ". . . . . . . X O . . . . . .\n",
      ". . . . . . . X O . . . . . .\n",
      ". . . . . . . X . . . . . . .\n",
      ". . . . . . . . . . . . . . .\n",
      ". . . . . . . . . . . . . . .\n",
      ". . . . . . . . . . . . . . .\n"
     ]
    }
   ],
   "source": [
    "game = Gomoku(\n",
    "    M=15,\n",
    "    N=15,\n",
    "    K=5,\n",
    "    FIRST_PLAYER=1,\n",
    ")\n",
    "\n",
    "winner = game.play([\n",
    "    (7, 7), (7, 8), (8, 7), (8, 8), (9, 7), (9, 8)\n",
    "])\n",
    "\n",
    "\n",
    "winner = game.play([\n",
    "    (10, 7), (10, 8), (11, 7), (11, 8)\n",
    "])\n",
    "\n",
    "game.print()\n",
    "\n"
   ]
  },
  {
   "cell_type": "code",
   "execution_count": null,
   "metadata": {},
   "outputs": [],
   "source": []
  }
 ],
 "metadata": {
  "kernelspec": {
   "display_name": "Python 3",
   "language": "python",
   "name": "python3"
  },
  "language_info": {
   "codemirror_mode": {
    "name": "ipython",
    "version": 3
   },
   "file_extension": ".py",
   "mimetype": "text/x-python",
   "name": "python",
   "nbconvert_exporter": "python",
   "pygments_lexer": "ipython3",
   "version": "3.11.3"
  }
 },
 "nbformat": 4,
 "nbformat_minor": 2
}
